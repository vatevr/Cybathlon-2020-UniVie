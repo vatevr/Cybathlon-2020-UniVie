{
 "cells": [
  {
   "cell_type": "code",
   "execution_count": 1,
   "metadata": {},
   "outputs": [
    {
     "name": "stderr",
     "output_type": "stream",
     "text": [
      "C:\\ProgramData\\Anaconda3\\lib\\site-packages\\sklearn\\externals\\joblib\\__init__.py:15: DeprecationWarning: sklearn.externals.joblib is deprecated in 0.21 and will be removed in 0.23. Please import this functionality directly from joblib, which can be installed with: pip install joblib. If this warning is raised when loading pickled models, you may need to re-serialize those models with scikit-learn 0.21+.\n",
      "  warnings.warn(msg, category=DeprecationWarning)\n",
      "Choosing from all possible events\n"
     ]
    }
   ],
   "source": [
    "from classifier import riemannianClassifier\n",
    "from moabb.datasets import BNCI2014001, BNCI2014004, BNCI2015004\n",
    "from moabb.paradigms import MotorImagery\n",
    "from sklearn.model_selection import train_test_split\n",
    "from sklearn.model_selection import cross_val_score\n",
    "from sklearn.model_selection import ShuffleSplit\n",
    "from sklearn.svm import SVC\n",
    "import warnings\n",
    "\n",
    "warnings.simplefilter(\"ignore\")\n",
    "\n",
    "MI = MotorImagery(fmin=8, fmax=32)\n",
    "datasets = [BNCI2014004(), BNCI2014001(), BNCI2015004()]\n",
    "dataset_names = [\"BNCI2014004\", \"BNCI2014001\", \"BNCI2015004\"]\n",
    "\n",
    "X, y, meta = MI.get_data(datasets[1], [1])"
   ]
  },
  {
   "cell_type": "code",
   "execution_count": 2,
   "metadata": {},
   "outputs": [],
   "source": [
    "n_components = 1\n",
    "classifiers = {\n",
    "    \"Default\": riemannianClassifier(n_components=n_components),\n",
    "    #\"Geodesic Filtering\": riemannianClassifier(filtering=\"geodesic\"),\n",
    "    \"TSSF one step\": riemannianClassifier(filtering=\"TSSF\", n_components=n_components),\n",
    "    \"TSSF two steps\": riemannianClassifier(filtering=\"TSSF\", two_step_classifier=SVC(), n_components=n_components),\n",
    "}"
   ]
  },
  {
   "cell_type": "code",
   "execution_count": 3,
   "metadata": {},
   "outputs": [
    {
     "name": "stdout",
     "output_type": "stream",
     "text": [
      "riemannianClassifier(filtering=None, metric='riemann', n_components=None,\n",
      "                     two_step_classifier=None)\n",
      "[0.93923611 0.953125   0.94487847]\n",
      "riemannianClassifier(filtering='TSSF', metric='riemann', n_components=None,\n",
      "                     two_step_classifier=None)\n",
      "[0.94791667 0.96701389 0.93880208]\n",
      "riemannianClassifier(filtering='TSSF', metric='riemann', n_components=None,\n",
      "                     two_step_classifier=None)\n",
      "[0.94791667 0.96701389 0.93880208]\n"
     ]
    }
   ],
   "source": [
    "for clf in classifiers.values():\n",
    "    clf.fit(X, y)\n",
    "    #print(list(zip(clf.predict(X), clf.predict_proba(X))))\n",
    "    \n",
    "    print(clf)\n",
    "    print(cross_val_score(clf, X, y, scoring=\"roc_auc\"))"
   ]
  },
  {
   "cell_type": "code",
   "execution_count": 3,
   "metadata": {},
   "outputs": [],
   "source": [
    "svm = SVC()\n",
    "c2 = riemannianClassifier()"
   ]
  },
  {
   "cell_type": "code",
   "execution_count": 5,
   "metadata": {},
   "outputs": [
    {
     "data": {
      "text/plain": [
       "riemannianClassifier(filtering='TSSF', metric='riemann', n_components=None,\n",
       "                     two_step_classifier=None)"
      ]
     },
     "execution_count": 5,
     "metadata": {},
     "output_type": "execute_result"
    }
   ],
   "source": [
    "c2.fit(X, y)"
   ]
  },
  {
   "cell_type": "code",
   "execution_count": 6,
   "metadata": {},
   "outputs": [],
   "source": [
    "import pickle\n",
    "p = pickle.load(open(\"params.sav\", \"rb\"))"
   ]
  },
  {
   "cell_type": "code",
   "execution_count": 4,
   "metadata": {},
   "outputs": [
    {
     "data": {
      "text/plain": [
       "riemannianClassifier(filtering='TSSF', metric='riemann', n_components=None,\n",
       "                     two_step_classifier=None)"
      ]
     },
     "execution_count": 4,
     "metadata": {},
     "output_type": "execute_result"
    }
   ],
   "source": [
    "c2.load_self()"
   ]
  },
  {
   "cell_type": "code",
   "execution_count": 10,
   "metadata": {},
   "outputs": [
    {
     "data": {
      "text/plain": [
       "{'filtering': 'TSSF',\n",
       " 'metric': 'riemann',\n",
       " 'n_components': None,\n",
       " 'two_step_classifier': None}"
      ]
     },
     "execution_count": 10,
     "metadata": {},
     "output_type": "execute_result"
    }
   ],
   "source": [
    "c2.get_params()"
   ]
  },
  {
   "cell_type": "code",
   "execution_count": 34,
   "metadata": {},
   "outputs": [],
   "source": [
    "from scipy.special import softmax\n",
    "import numpy as np"
   ]
  },
  {
   "cell_type": "code",
   "execution_count": 35,
   "metadata": {},
   "outputs": [
    {
     "data": {
      "text/plain": [
       "array([[4.22252777e-01, 1.55338116e-01, 5.21101325e-05],\n",
       "       [5.21101325e-05, 5.21101325e-05, 4.22252777e-01]])"
      ]
     },
     "execution_count": 35,
     "metadata": {},
     "output_type": "execute_result"
    }
   ],
   "source": [
    "softmax([np.abs([9, 8, 0]), np.abs([0, 0, -9])])"
   ]
  },
  {
   "cell_type": "code",
   "execution_count": null,
   "metadata": {},
   "outputs": [],
   "source": []
  }
 ],
 "metadata": {
  "kernelspec": {
   "display_name": "Python 3",
   "language": "python",
   "name": "python3"
  },
  "language_info": {
   "codemirror_mode": {
    "name": "ipython",
    "version": 3
   },
   "file_extension": ".py",
   "mimetype": "text/x-python",
   "name": "python",
   "nbconvert_exporter": "python",
   "pygments_lexer": "ipython3",
   "version": "3.7.3"
  }
 },
 "nbformat": 4,
 "nbformat_minor": 2
}
