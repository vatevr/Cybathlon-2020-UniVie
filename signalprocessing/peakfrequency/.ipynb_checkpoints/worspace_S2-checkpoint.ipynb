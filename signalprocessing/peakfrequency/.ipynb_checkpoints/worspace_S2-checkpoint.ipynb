{
 "cells": [
  {
   "cell_type": "markdown",
   "metadata": {},
   "source": [
    "# FM Features\n",
    "## Load Data\n",
    "codes are\n",
    "\n",
    "1\tmove right hand\n",
    "\n",
    "2\tmove left hand\n",
    "\n",
    "3\tmake right fist\n",
    "\n",
    "4\tmake left fist\n",
    "\n",
    "5\thug\n",
    "\n",
    "6\tmove feet\n",
    "\n",
    "7\tstand up\n",
    "\n",
    "8\tmusic\n",
    "\n",
    "9\ttaste\n",
    "\n",
    "10\ttouch\n",
    "\n",
    "11\tcalculate"
   ]
  },
  {
   "cell_type": "code",
   "execution_count": 1,
   "metadata": {
    "pycharm": {
     "is_executing": false,
     "name": "#%% \n"
    }
   },
   "outputs": [
    {
     "name": "stdout",
     "output_type": "stream",
     "text": [
      "Extracting parameters from data/20191210_Cybathlon_SAZ_Session1.vhdr...\n",
      "Setting channel info structure...\n",
      "Reading 0 ... 2419277  =      0.000 ...  4838.554 secs...\n",
      "Used Annotations descriptions: ['New Segment/', 'Stimulus/S  1', 'Stimulus/S  2', 'Stimulus/S  3', 'Stimulus/S  4', 'Stimulus/S  5', 'Stimulus/S  6', 'Stimulus/S  7', 'Stimulus/S  8', 'Stimulus/S  9', 'Stimulus/S 10', 'Stimulus/S 11', 'Stimulus/S 30', 'Stimulus/S 31', 'Stimulus/S 32', 'Stimulus/S 40']\n",
      "338 matching events found\n",
      "No baseline correction applied\n",
      "Not setting metadata\n",
      "0 projection items activated\n",
      "Loading data for 338 events and 2501 original time points ...\n",
      "0 bad epochs dropped\n"
     ]
    },
    {
     "name": "stderr",
     "output_type": "stream",
     "text": [
      "/home/biropo/anaconda3/envs/signalprocessing/lib/python3.7/site-packages/mne/utils/docs.py:830: DeprecationWarning: Function read_montage is deprecated; ``read_montage`` is deprecated and will be removed in v0.20. Please use ``read_dig_fif``, ``read_dig_egi``, ``read_custom_montage``, or ``read_dig_captrack`` to read a digitization based on your needs instead; or ``make_standard_montage`` to create ``DigMontage`` based on template; or ``make_dig_montage`` to create a ``DigMontage`` out of np.arrays\n",
      "  warnings.warn(msg, category=DeprecationWarning)\n",
      "/home/biropo/anaconda3/envs/signalprocessing/lib/python3.7/site-packages/mne/utils/docs.py:813: DeprecationWarning: Class Montage is deprecated; Montage class is deprecated and will be removed in v0.20. Please use DigMontage instead.\n",
      "  warnings.warn(msg, category=DeprecationWarning)\n",
      "<ipython-input-1-b41e0cdc5cd9>:13: DeprecationWarning: Setting a montage using anything rather than DigMontage is deprecated and will raise an error in v0.20. Please use ``read_dig_fif``, ``read_dig_egi``, ``read_dig_polhemus_isotrak``, or ``read_dig_captrack`` ``read_dig_hpts``, ``read_dig_captrack`` or ``read_custom_montage`` to read a digitization based on your needs instead; or ``make_standard_montage`` to create ``DigMontage`` based on template; or ``make_dig_montage`` to create a ``DigMontage`` out of np.arrays.\n",
      "  raw.set_montage(montage)\n"
     ]
    }
   ],
   "source": [
    "import mne\n",
    "import peakfrequency.peak_frequency as pf\n",
    "from mne.channels.layout import _auto_topomap_coords as pos_from_raw\n",
    "import numpy as np\n",
    "import matplotlib.pyplot as plt\n",
    "\n",
    "# Load data\n",
    "path = \"data/\"\n",
    "raw = mne.io.read_raw_brainvision(path + \"20191210_Cybathlon_SAZ_Session1.vhdr\", preload=True)\n",
    "# Set montage (location of channels)\n",
    "raw.rename_channels({'O9': 'I1', 'O10': 'I2'})\n",
    "montage = mne.channels.read_montage(\"standard_1005\")\n",
    "raw.set_montage(montage)\n",
    "raw.rename_channels({'I1': 'O9', 'I2': 'O10'})\n",
    "# Remove bad channels from analysis\n",
    "\n",
    "raw.info['bads'] = []\n",
    "picks = mne.pick_types(raw.info, eeg=True, stim=False, exclude='bads')\n",
    "fs = int(1/raw.times[1])\n",
    "# Create events from triggers\n",
    "events = mne.events_from_annotations(raw)[0]\n",
    "# Epoch data (cut up data into trials)\n",
    "tmin = 1            # time in seconds after trigger the trial should start\n",
    "tmax = tmin + 5     # time in seconds after trigger the trial should end\n",
    "epochs = mne.Epochs(raw, events, tmin=tmin, tmax=tmax, preload=True, baseline=None)\n",
    "data_lhand = epochs['1'].get_data()\n",
    "data_rhand = epochs['2'].get_data()\n",
    "nr_channels = data_rhand[0].shape[0]"
   ]
  },
  {
   "cell_type": "markdown",
   "metadata": {
    "pycharm": {
     "is_executing": false,
     "name": "#%% md\n"
    }
   },
   "source": [
    "## Topograpy Maps\n",
    "*Alpha range, via trial, FM features*"
   ]
  },
  {
   "cell_type": "code",
   "execution_count": 2,
   "metadata": {
    "pycharm": {
     "is_executing": false,
     "name": "#%% \n"
    }
   },
   "outputs": [],
   "source": [
    "bands = {'Delta': (1.0, 4.0, 'Delta (1 , 4)'), 'Theta': (4.0, 9.0, 'Theta (4.0 , 9)'), 'Alpha': (9.0, 12.0, 'Alpha (9 , 12)'), 'Beta': (12.0, 30.0, 'Beta (12 , 30.0)'), 'Gamma': (30.0, 45.0, 'Gamma (30 , 45)')}"
   ]
  },
  {
   "cell_type": "code",
   "execution_count": 3,
   "metadata": {
    "pycharm": {
     "is_executing": false,
     "name": "#%%\n"
    }
   },
   "outputs": [],
   "source": [
    "def plot_single_topomap(data, pos, vmin=None, vmax=None, title=None, cmap_rb=False):\n",
    "    vmin = np.min(data) if vmin is None else vmin\n",
    "    vmax = np.max(data) if vmax is None else vmax\n",
    "    fig, ax  = plt.subplots()\n",
    "    im, _ = mne.viz.topomap.plot_topomap(data, pos, vmin=vmin, vmax=vmax, axes=ax, image_interp='bilinear', contours=0, outlines='skirt', show=False)\n",
    "    cbar, cax = mne.viz.topomap._add_colorbar(ax, im, None, pad=.25, title=None,\n",
    "                                  size=\"10%\", format='%3.3f')\n",
    "    cbar.set_ticks((vmin, vmax))\n",
    "    ax.set_title(title)\n",
    "    plt.savefig(title+\".png\", dpi=150)\n",
    "\n",
    "fm = pf.PeakFrequency(nr_channels, data_lhand.shape[2], fs, bands)\n",
    "acum_y = []\n",
    "acum_x = []\n",
    "left =[]\n",
    "right = []\n",
    "for i in range(data_lhand.shape[0]):\n",
    "    peaks_l = fm.fit(data_lhand[i,:,:].T)\n",
    "    peaks_r = fm.fit(data_rhand[i,:,:].T)\n",
    "    #pos = pos_from_raw(raw.info, picks)\n",
    "    #plot_single_topomap(peaks_l['Alpha'], pos, title = bands['Alpha'][2]+' - left, trial'+str(i), cmap_rb=True)\n",
    "    #plot_single_topomap(peaks_r['Alpha'], pos, title = bands['Alpha'][2]+' - right, trial'+str(i), cmap_rb=True)\n",
    "    acum_y.append(peaks_l['Alpha'])\n",
    "    acum_x.append(0)\n",
    "    acum_y.append(peaks_r['Alpha'])\n",
    "    acum_x.append(1)\n",
    "    left.append(peaks_l['Alpha'])\n",
    "    right.append(peaks_r['Alpha'])\n",
    "left = np.array(left)\n",
    "right = np.array(right)"
   ]
  },
  {
   "cell_type": "markdown",
   "metadata": {},
   "source": [
    "## Correlation Plots\n",
    "*Alpha range*\n"
   ]
  },
  {
   "cell_type": "code",
   "execution_count": 9,
   "metadata": {
    "pycharm": {
     "is_executing": false,
     "name": "#%%\n"
    }
   },
   "outputs": [
    {
     "name": "stdout",
     "output_type": "stream",
     "text": [
      "(30, 126)\n"
     ]
    }
   ],
   "source": [
    "y = np.array(acum_y)\n",
    "print(y.shape)"
   ]
  },
  {
   "cell_type": "code",
   "execution_count": null,
   "metadata": {
    "pycharm": {
     "name": "#%%\n"
    }
   },
   "outputs": [],
   "source": [
    "val= []\n",
    "for i in range(y.shape[1]):\n",
    "    corr = np.corrcoef(acum_x, y[:, i])\n",
    "    val.append(corr[0][1])\n",
    "print(val)\n",
    "pos = pos_from_raw(raw.info, picks)\n",
    "plot_single_topomap(val, pos, title = 'correlations', cmap_rb=True)\n",
    "plt.savefig(\"corr-alpha.png\", dpi=150)"
   ]
  },
  {
   "cell_type": "markdown",
   "metadata": {
    "pycharm": {
     "is_executing": true,
     "name": "#%% md\n"
    }
   },
   "source": [
    "## Boxplots"
   ]
  },
  {
   "cell_type": "code",
   "execution_count": 4,
   "metadata": {
    "pycharm": {
     "is_executing": false,
     "name": "#%%\n"
    }
   },
   "outputs": [
    {
     "data": {
      "image/png": "[encoded data removed]",
      "text/plain": [
       "<Figure size 432x288 with 1 Axes>"
      ]
     },
     "metadata": {
      "needs_background": "light"
     },
     "output_type": "display_data"
    }
   ],
   "source": [
    "import pandas as pd\n",
    "\n",
    "l_C3 = left[:, 4]\n",
    "l_C4 = left[:, 5]\n",
    "r_C3 = right[:, 4]\n",
    "r_C4 = right[:, 5]\n",
    "\n",
    "df = pd.DataFrame(data=[l_C3, r_C3, l_C4, r_C4], index=['left hand - C3', 'right hand - C3', 'left hand - C4', 'right hand - C4']).T\n",
    "df.boxplot()\n",
    "plt.savefig(\"boxplot_hands.png\", dpi=150)"
   ]
  }
 ],
 "metadata": {
  "kernelspec": {
   "display_name": "Python 3",
   "language": "python",
   "name": "python3"
  },
  "language_info": {
   "codemirror_mode": {
    "name": "ipython",
    "version": 3
   },
   "file_extension": ".py",
   "mimetype": "text/x-python",
   "name": "python",
   "nbconvert_exporter": "python",
   "pygments_lexer": "ipython3",
   "version": "3.7.6"
  },
  "pycharm": {
   "stem_cell": {
    "cell_type": "raw",
    "metadata": {
     "collapsed": false
    },
    "source": []
   }
  }
 },
 "nbformat": 4,
 "nbformat_minor": 1
}
