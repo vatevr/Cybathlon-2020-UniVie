{
 "cells": [
  {
   "cell_type": "markdown",
   "source": [
    "# FM Features\n",
    "## Load Data"
   ],
   "metadata": {
    "collapsed": false
   }
  },
  {
   "cell_type": "code",
   "execution_count": null,
   "outputs": [],
   "source": [
    "import mne\n",
    "import peakfrequency.peak_frequency as pf\n",
    "from mne.channels.layout import _auto_topomap_coords as pos_from_raw\n",
    "import numpy as np\n",
    "import matplotlib.pyplot as plt\n",
    "\n",
    "'''\n",
    "fname = 'data/S2/S2_4chns.raw'\n",
    "raw = mne.io.Raw(fname, preload=True)\n",
    "data = raw.get_data()\n",
    "fs = 500\n",
    "channels = 4\n",
    "samples = 900\n",
    "data = data.T\n",
    "'''\n",
    "# Load data, set montage and remove bad channels as before\n",
    "# Load data\n",
    "path = \"data/TF/\"\n",
    "raw = mne.io.read_raw_brainvision(path + \"20191201_Cybathlon_TF_Session1_Block1.vhdr\", preload=True)\n",
    "# Set montage (location of channels)\n",
    "raw.rename_channels({'O9': 'I1', 'O10': 'I2'})\n",
    "montage = mne.channels.read_montage(\"standard_1005\")\n",
    "raw.set_montage(montage)\n",
    "raw.rename_channels({'I1': 'O9', 'I2': 'O10'})\n",
    "# Remove bad channels from analysis\n",
    "raw.info['bads'] = ['F2', 'FFC2h', 'POO10h', 'O2']\n",
    "picks = mne.pick_types(raw.info, eeg=True, stim=False, exclude='bads')\n",
    "\n",
    "fs = int(1/raw.times[1])\n",
    "# Create events from triggers\n",
    "events = mne.events_from_annotations(raw)[0]\n",
    "# Epoch data (cut up data into trials)\n",
    "tmin = 1            # time in seconds after trigger the trial should start\n",
    "tmax = tmin + 5     # time in seconds after trigger the trial should end\n",
    "epochs = mne.Epochs(raw, events, tmin=tmin, tmax=tmax, preload=True, baseline=None, picks=picks)\n",
    "data_lhand = epochs['1'].get_data()\n",
    "data_rhand = epochs['2'].get_data()\n",
    "nr_channels = data_rhand[0].shape[0]"
   ],
   "metadata": {
    "collapsed": false,
    "pycharm": {
     "name": "#%% \n"
    }
   }
  },
  {
   "cell_type": "markdown",
   "source": [
    "## Optimizing Alpha Range"
   ],
   "metadata": {
    "collapsed": false
   }
  },
  {
   "cell_type": "code",
   "execution_count": null,
   "outputs": [],
   "source": [
    "def get_tripple(l, u, name):\n",
    "    name = name+' ('+str(l)+' , '+str(u)+')'\n",
    "    return float(l), float(u), name\n",
    "\n",
    "def reset_band_bounds(bands, sub, obj, sup, l, u):\n",
    "        bands[sub] = get_tripple(bands[sub][0], l, sub)\n",
    "        bands[obj] = get_tripple(l, u, obj)\n",
    "        bands[sup] = get_tripple(u, bands[sup][1], sup)\n",
    "        return bands\n",
    "\n",
    "def score_product(a, b):\n",
    "    return a*b\n",
    "\n",
    "def swap_score(score, best_score, lim, best_lim):\n",
    "    if score > best_score:\n",
    "        return score, lim\n",
    "    else: \n",
    "        return best_score, best_lim\n",
    "\n",
    "def optimize_alpha(data, bands = {'Delta': (get_tripple(1, 4,'Delta')), 'Theta': (get_tripple(4, 8,'Theta')), 'Alpha': (get_tripple(8, 12,'Alpha')), 'Beta': (get_tripple(12, 30, 'Beta')), 'Gamma': (get_tripple(30, 45,'Gamma'))}, \n",
    "                   lower=9, upper=10, lower_bound=7, upper_bound=15):\n",
    "    best_score = 0\n",
    "    best_lower = lower\n",
    "    best_upper = upper\n",
    "    while lower > lower_bound : \n",
    "        bands = reset_band_bounds(bands, 'Theta', 'Alpha', 'Beta', lower, upper)\n",
    "        peakf = pf.PeakFrequency(nr_channels, samples, fs, bands)\n",
    "        scores = peakf.fit(data.T)\n",
    "        score = score_product(scores['Alpha'][0], scores['Alpha'][1])\n",
    "        best_score, best_lower = swap_score(score, best_score, lower, best_lower)\n",
    "        lower = lower-1\n",
    "    best_score = 0      \n",
    "    while upper < upper_bound : \n",
    "        bands = reset_band_bounds(bands, 'Theta', 'Alpha', 'Beta', lower, upper)\n",
    "        peakf = pf.PeakFrequency(nr_channels, samples, fs, bands)\n",
    "        scores = peakf.fit(data.T)\n",
    "        score = score_product(scores['Alpha'][0], scores['Alpha'][1])\n",
    "        best_score, best_upper = swap_score(score, best_score, upper, best_upper)\n",
    "        upper = upper+1\n",
    "        bands = reset_band_bounds(bands, 'Theta', 'Alpha', 'Beta', best_lower, best_upper)\n",
    "    return bands\n",
    "\n",
    "def get_mne_ready():\n",
    "    return list(optimize_alpha().values())\n",
    "\n",
    "samples = 125\n",
    "bands_r = optimize_alpha(data_rhand[0,:,:125])\n",
    "bands_l = optimize_alpha(data_lhand[0,:,:125])\n",
    "print(bands_r)\n",
    "print(bands_l)\n",
    "bands = bands_l"
   ],
   "metadata": {
    "collapsed": false,
    "pycharm": {
     "name": "#%% \n"
    }
   }
  },
  {
   "cell_type": "markdown",
   "source": [
    "## Topograpy Maps\n",
    "*Alpha range, via trial, FM features*"
   ],
   "metadata": {
    "collapsed": false,
    "pycharm": {
     "name": "#%% md\n",
     "is_executing": false
    }
   }
  },
  {
   "cell_type": "code",
   "execution_count": null,
   "outputs": [],
   "source": [
    "def plot_single_topomap(data, pos, vmin=None, vmax=None, title=None, cmap_rb=False):\n",
    "    vmin = np.min(data) if vmin is None else vmin\n",
    "    vmax = np.max(data) if vmax is None else vmax\n",
    "    fig, ax  = plt.subplots()\n",
    "    cmap = mne.viz.utils._setup_cmap('interactive', norm=1-cmap_rb)\n",
    "    im, _ = mne.viz.topomap.plot_topomap(data, pos, vmin=vmin, vmax=vmax, axes=ax,\n",
    "                         cmap=cmap[0], image_interp='bilinear', contours=0,\n",
    "                         outlines='skirt', show=False)\n",
    "    cbar, cax = mne.viz.topomap._add_colorbar(ax, im, cmap, pad=.25, title=None,\n",
    "                                  size=\"10%\", format='%3.3f')\n",
    "    cbar.set_ticks((vmin, vmax))\n",
    "    ax.set_title(title)\n",
    "    #plt.savefig(title+\".png\", dpi=150)\n",
    "\n",
    "fm = pf.PeakFrequency(nr_channels, data_lhand.shape[2], fs, bands)\n",
    "acum_y = []\n",
    "acum_x = []\n",
    "for i in range(data_lhand.shape[0]):\n",
    "    peaks_l = fm.fit(data_lhand[i,:,:].T)\n",
    "    peaks_r = fm.fit(data_rhand[i,:,:].T)\n",
    "    pos = pos_from_raw(raw.info, picks)\n",
    "    #plot_single_topomap(peaks_l['Alpha'], pos, title = bands['Alpha'][2]+' - left, trial'+str(i), cmap_rb=True)\n",
    "    #plot_single_topomap(peaks_r['Alpha'], pos, title = bands['Alpha'][2]+' - right, trial'+str(i), cmap_rb=True)\n",
    "    acum_y.append(peaks_l['Alpha'])\n",
    "    acum_x.append(0)\n",
    "    acum_y.append(peaks_r['Alpha'])\n",
    "    acum_x.append(1)"
   ],
   "metadata": {
    "collapsed": false,
    "pycharm": {
     "name": "#%% \n"
    }
   }
  },
  {
   "cell_type": "markdown",
   "source": [
    "## Correlation Plots\n",
    "*Alpha range*"
   ],
   "metadata": {
    "collapsed": false
   }
  },
  {
   "cell_type": "code",
   "execution_count": null,
   "outputs": [],
   "source": [
    "import pandas as pd\n",
    "\n",
    "y = np.array(acum_y)\n",
    "val= []\n",
    "for i in range(y.shape[1]):\n",
    "    corr = np.corrcoef(acum_x, y[:, i])\n",
    "    val.append(np.abs(corr[0][1]))\n",
    "print(val)\n",
    "plot_single_topomap(val, pos, title = 'correlations', cmap_rb=True)\n",
    "plt.savefig(\"corr-alpha.png\", dpi=150)"
   ],
   "metadata": {
    "collapsed": false,
    "pycharm": {
     "name": "#%% \n"
    }
   }
  },
  {
   "cell_type": "markdown",
   "source": [
    "## Time Evaluation\n",
    "*!) caution, do not test the parallelized version*"
   ],
   "metadata": {
    "collapsed": false,
    "pycharm": {
     "name": "#%% md\n",
     "is_executing": false
    }
   }
  },
  {
   "cell_type": "code",
   "execution_count": 47,
   "outputs": [
    {
     "name": "stdout",
     "text": [
      "(122, 2501)\n",
      "channels:  122  samples:  125  fs:  500  bands:  {'Delta': (1.0, 4.0, 'Delta (1 , 4)'), 'Theta': (4.0, 9.0, 'Theta (4.0 , 9)'), 'Alpha': (9.0, 12.0, 'Alpha (9 , 12)'), 'Beta': (12.0, 30.0, 'Beta (12 , 30.0)'), 'Gamma': (30.0, 45.0, 'Gamma (30 , 45)')}\n",
      "time for sample size:  125  time elapsed:  0.027502463000018906  fraction:  22.0 % of the sample slice\n",
      "time for sample size:  250  time elapsed:  0.01992861000053381  fraction:  7.9 % of the sample slice\n",
      "time for sample size:  500  time elapsed:  0.08617637800034572  fraction:  17.2 % of the sample slice\n",
      "time for sample size:  1000  time elapsed:  0.22272686999986036  fraction:  22.2 % of the sample slice\n"
     ],
     "output_type": "stream"
    }
   ],
   "source": [
    "from timeit import default_timer as timer\n",
    "import peakfrequency.peak_frequency_parallel as pfpar\n",
    "samples = data_lhand.shape[2]\n",
    "data = data_lhand[0,:,:]\n",
    "print(data.shape)\n",
    "print('channels: ', nr_channels, ' samples: ', 125,' fs: ', fs, ' bands: ', bands)\n",
    "for i in [125, 250, 500, 1000]:\n",
    "    fm = pf.PeakFrequency(nr_channels, i, fs, bands)\n",
    "    start = timer()\n",
    "    fm.fit(data.T[:i])\n",
    "    end = timer()\n",
    "    frame = i/1000\n",
    "    elapsed = end - start\n",
    "    print('time for sample size: ', i, \" time elapsed: \", end - start, \" fraction: \", int((elapsed/frame)*1000)/10, \"% of the samples time frame\")\n",
    "\n",
    "\n",
    "\n"
   ],
   "metadata": {
    "collapsed": false,
    "pycharm": {
     "name": "#%% \n",
     "is_executing": false
    }
   }
  }
 ],
 "metadata": {
  "kernelspec": {
   "display_name": "Python 3",
   "language": "python",
   "name": "python3"
  },
  "language_info": {
   "codemirror_mode": {
    "name": "ipython",
    "version": 2
   },
   "file_extension": ".py",
   "mimetype": "text/x-python",
   "name": "python",
   "nbconvert_exporter": "python",
   "pygments_lexer": "ipython2",
   "version": "2.7.6"
  },
  "pycharm": {
   "stem_cell": {
    "cell_type": "raw",
    "source": [],
    "metadata": {
     "collapsed": false
    }
   }
  }
 },
 "nbformat": 4,
 "nbformat_minor": 0
}