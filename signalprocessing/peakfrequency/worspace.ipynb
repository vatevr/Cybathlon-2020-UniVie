{
 "cells": [
  {
   "cell_type": "code",
   "execution_count": 14,
   "metadata": {
    "collapsed": true,
    "pycharm": {
     "is_executing": false
    }
   },
   "outputs": [
    {
     "name": "stdout",
     "text": [
      "Opening raw data file data/S2/S2_4chns.raw...\n",
      "Isotrak not found\n",
      "    Range : 0 ... 1507179 =      0.000 ...  3014.358 secs\n",
      "Ready.\n",
      "Reading 0 ... 1507179  =      0.000 ...  3014.358 secs...\n"
     ],
     "output_type": "stream"
    },
    {
     "name": "stderr",
     "text": [
      "<ipython-input-14-dfd5fffffa63>:4: RuntimeWarning: This filename (data/S2/S2_4chns.raw) does not conform to MNE naming conventions. All raw files should end with raw.fif, raw_sss.fif, raw_tsss.fif, raw.fif.gz, raw_sss.fif.gz, raw_tsss.fif.gz or _meg.fif\n",
      "  raw = mne.io.Raw(fname, preload=True)\n"
     ],
     "output_type": "stream"
    }
   ],
   "source": [
    "import mne\n",
    "import peak_frequency as pf\n",
    "import matplotlib.pyplot as plt"
   ]
  },
  {
   "cell_type": "code",
   "execution_count": 31,
   "outputs": [
    {
     "name": "stdout",
     "text": [
      "Opening raw data file data/S2/S2_4chns.raw...\n",
      "Isotrak not found\n",
      "    Range : 0 ... 1507179 =      0.000 ...  3014.358 secs\n",
      "Ready.\n",
      "Reading 0 ... 1507179  =      0.000 ...  3014.358 secs...\n"
     ],
     "output_type": "stream"
    },
    {
     "name": "stderr",
     "text": [
      "<ipython-input-31-547077fe7706>:2: RuntimeWarning: This filename (data/S2/S2_4chns.raw) does not conform to MNE naming conventions. All raw files should end with raw.fif, raw_sss.fif, raw_tsss.fif, raw.fif.gz, raw_sss.fif.gz, raw_tsss.fif.gz or _meg.fif\n",
      "  raw = mne.io.Raw(fname, preload=True)\n"
     ],
     "output_type": "stream"
    }
   ],
   "source": [
    "fname = 'data/S2/S2_4chns.raw'\n",
    "raw = mne.io.Raw(fname, preload=True)\n",
    "data = raw.get_data()"
   ],
   "metadata": {
    "collapsed": false,
    "pycharm": {
     "name": "#%%\n",
     "is_executing": false
    }
   }
  },
  {
   "cell_type": "code",
   "execution_count": 55,
   "outputs": [],
   "source": [
    "#c3 = raw['C3']\n",
    "#c4 = raw['C4']\n",
    "#samples = data.shape[1]\n",
    "fs = 500\n",
    "channels = 4\n",
    "samples = 900\n",
    "bands = {'delta': (1, 4), 'theta': (4, 8), 'alpha': (8, 12), 'beta': (12, 30), 'gamma': (30, 45)}"
   ],
   "metadata": {
    "collapsed": false,
    "pycharm": {
     "name": "#%%\n",
     "is_executing": false
    }
   }
  },
  {
   "cell_type": "code",
   "execution_count": 33,
   "outputs": [],
   "source": [
    "data = data.T"
   ],
   "metadata": {
    "collapsed": false,
    "pycharm": {
     "name": "#%%\n",
     "is_executing": false
    }
   }
  },
  {
   "cell_type": "code",
   "execution_count": 38,
   "outputs": [
    {
     "name": "stdout",
     "text": [
      "{'delta': array([0., 0., 0., 0.]), 'theta': array([-1.10435926e-13, -1.10435926e-13, -1.41357986e-13,  1.65653890e-13]), 'alpha': array([5., 5., 5., 5.]), 'beta': array([11.98021232, 14.54490235, 13.97197963, 11.45926121]), 'gamma': array([33.94183302, 30.89870107, 31.71164518, 35.40588378])}\n"
     ],
     "output_type": "stream"
    },
    {
     "data": {
      "text/plain": "<Figure size 432x288 with 1 Axes>",
      "image/png": "[encoded data removed]"
     },
     "metadata": {
      "needs_background": "light"
     },
     "output_type": "display_data"
    }
   ],
   "source": [
    "peak = pf.PeakFrequency(channels, samples, fs, bands)\n",
    "features = peak.fit(data[:samples, :])\n",
    "print(features)\n",
    "\n",
    "\n",
    "for key, val in features.items():\n",
    "    plt.plot(val, label=key)\n",
    "plt.legend()\n",
    "plt.show()"
   ],
   "metadata": {
    "collapsed": false,
    "pycharm": {
     "name": "#%%\n",
     "is_executing": false
    }
   }
  },
  {
   "cell_type": "code",
   "execution_count": 56,
   "outputs": [
    {
     "name": "stdout",
     "text": [
      "{'delta': (1, 4), 'theta': (8, 9), 'alpha': (9, 10), 'beta': (10, 12), 'gamma': (30, 45)}\n",
      "42.35058014033825 0\n",
      "{'delta': (1, 4), 'theta': (9, 8), 'alpha': (8, 10), 'beta': (10, 10), 'gamma': (30, 45)}\n",
      "37.24021205201431 42.35058014033825\n",
      "34.440190646264824 0\n",
      "34.19684245710411 34.440190646264824\n",
      "43.53401616129118 34.440190646264824\n",
      "58.19778032787697 43.53401616129118\n",
      "59.021682894630594 58.19778032787697\n",
      "{'delta': array([0., 0., 0., 0.]), 'theta': array([-1.10435926e-13, -1.10435926e-13, -1.41357986e-13,  1.65653890e-13]), 'alpha': array([5., 5., 5., 5.]), 'beta': array([11.98021232, 14.54490235, 13.97197963, 11.45926121]), 'gamma': array([33.94183302, 30.89870107, 31.71164518, 35.40588378])}\n",
      "{'delta': (1, 4), 'theta': (7, 9), 'alpha': (9, 14), 'beta': (14, 14), 'gamma': (30, 45)}\n"
     ],
     "output_type": "stream"
    },
    {
     "data": {
      "text/plain": "<Figure size 432x288 with 1 Axes>",
      "image/png": "[encoded data removed]"
     },
     "metadata": {
      "needs_background": "light"
     },
     "output_type": "display_data"
    }
   ],
   "source": [
    "def optimize_alpha(bands = {'delta': (1, 4), 'theta': (4, 8), 'alpha': (8, 12), 'beta': (12, 30), 'gamma': (30, 45)}, \n",
    "                   lower=9, upper=10, lower_bound=7, upper_bound=15):\n",
    "    best_score = 0\n",
    "    best_lower = lower\n",
    "    best_upper = upper\n",
    "    \n",
    "    while lower > lower_bound : \n",
    "        bands['alpha'] = (lower, upper)\n",
    "        bands['beta'] = (upper, bands['beta'][0])\n",
    "        bands['theta'] = (bands['theta'][1], lower)\n",
    "        peakf = pf.PeakFrequency(channels, samples, fs, bands)\n",
    "        scores = peakf.fit(data[:samples, :])\n",
    "        score = scores['alpha'][0]*scores['alpha'][1]/2\n",
    "        print(bands)\n",
    "        print(score, best_score)\n",
    "        if score > best_score:\n",
    "            best_score = score\n",
    "            best_lower = lower\n",
    "        lower = lower-1\n",
    "            \n",
    "    best_score = 0      \n",
    "    while upper < upper_bound : \n",
    "        bands['alpha'] = (lower, upper)\n",
    "        bands['beta'] = (upper, bands['beta'][0])\n",
    "        bands['theta'] = (bands['theta'][1], lower)\n",
    "        peakf = pf.PeakFrequency(channels, samples, fs, bands)\n",
    "        scores = peakf.fit(data[:samples, :])\n",
    "        score = scores['alpha'][0]*scores['alpha'][1]/2\n",
    "        print(score, best_score)\n",
    "        if score > best_score:\n",
    "            best_score = score\n",
    "            best_upper = upper\n",
    "        upper = upper+1\n",
    "    bands['alpha'] = (best_lower, best_upper)\n",
    "    bands['beta'] = (best_upper, bands['beta'][0])\n",
    "    bands['theta'] = (bands['theta'][1], best_lower)\n",
    "    return bands\n",
    "\n",
    "bands = optimize_alpha(bands)\n",
    "peak = pf.PeakFrequency(channels, samples, fs, bands)\n",
    "scores = peak.fit(data[:samples, :])\n",
    "\n",
    "print(features)\n",
    "\n",
    "\n",
    "for key, val in features.items():\n",
    "    plt.plot(val, label=key)\n",
    "plt.legend()\n",
    "plt.show()\n",
    "print(bands)"
   ],
   "metadata": {
    "collapsed": false,
    "pycharm": {
     "name": "#%%\n",
     "is_executing": false
    }
   }
  }
 ],
 "metadata": {
  "kernelspec": {
   "display_name": "Python 3",
   "language": "python",
   "name": "python3"
  },
  "language_info": {
   "codemirror_mode": {
    "name": "ipython",
    "version": 2
   },
   "file_extension": ".py",
   "mimetype": "text/x-python",
   "name": "python",
   "nbconvert_exporter": "python",
   "pygments_lexer": "ipython2",
   "version": "2.7.6"
  },
  "pycharm": {
   "stem_cell": {
    "cell_type": "raw",
    "source": [],
    "metadata": {
     "collapsed": false
    }
   }
  }
 },
 "nbformat": 4,
 "nbformat_minor": 0
}